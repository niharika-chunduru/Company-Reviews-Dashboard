{
 "cells": [
  {
   "cell_type": "code",
   "execution_count": 443,
   "metadata": {},
   "outputs": [
    {
     "name": "stderr",
     "output_type": "stream",
     "text": [
      "[nltk_data] Downloading package stopwords to /Users/niha/nltk_data...\n",
      "[nltk_data]   Package stopwords is already up-to-date!\n",
      "[nltk_data] Downloading package wordnet to /Users/niha/nltk_data...\n",
      "[nltk_data]   Package wordnet is already up-to-date!\n",
      "[nltk_data] Downloading package omw-1.4 to /Users/niha/nltk_data...\n",
      "[nltk_data]   Package omw-1.4 is already up-to-date!\n"
     ]
    }
   ],
   "source": [
    "import pandas as pd\n",
    "import string\n",
    "from textblob import TextBlob\n",
    "import string\n",
    "import re\n",
    "from nltk.stem import WordNetLemmatizer\n",
    "nltk.download('stopwords')\n",
    "nltk.download('wordnet')\n",
    "nltk.download('omw-1.4')\n",
    "\n",
    "import warnings\n",
    "warnings.filterwarnings('ignore')"
   ]
  },
  {
   "cell_type": "code",
   "execution_count": 444,
   "metadata": {},
   "outputs": [],
   "source": [
    "# COMPANIES = ['airbnb', 'booking', 'tripadvisor']\n",
    "company='tripadvisor'"
   ]
  },
  {
   "cell_type": "markdown",
   "metadata": {},
   "source": [
    "## I. Data Loading"
   ]
  },
  {
   "cell_type": "markdown",
   "metadata": {},
   "source": [
    "### Glassdoor"
   ]
  },
  {
   "cell_type": "code",
   "execution_count": 445,
   "metadata": {},
   "outputs": [],
   "source": [
    "data_glassdoor = pd.read_csv(f\"data/glassdoor/{company}/glassdoor_{company}.csv\")\n",
    "\n",
    "# Glassdoor api gives pros and cons separately. Joining them to form the text column for normalized analysis\n",
    "data_glassdoor['text'] = data_glassdoor.pros + data_glassdoor.cons"
   ]
  },
  {
   "cell_type": "markdown",
   "metadata": {},
   "source": [
    "### Indeed"
   ]
  },
  {
   "cell_type": "code",
   "execution_count": 446,
   "metadata": {},
   "outputs": [],
   "source": [
    "data_indeed = pd.read_csv(f\"data/indeed/{company}/indeed_{company}.csv\")\n",
    "data_indeed = data_indeed[data_indeed['language'] == \"en\"]"
   ]
  },
  {
   "cell_type": "markdown",
   "metadata": {},
   "source": [
    "## II. Preprocessing the text data"
   ]
  },
  {
   "cell_type": "markdown",
   "metadata": {},
   "source": [
    "### Helper functions"
   ]
  },
  {
   "cell_type": "code",
   "execution_count": 447,
   "metadata": {},
   "outputs": [],
   "source": [
    "def preprocess(text):\n",
    "    # text = ' '.join(text.astype(str))\n",
    "    stopwords = nltk.corpus.stopwords.words('english')\n",
    "    wnl = WordNetLemmatizer()\n",
    "    text = re.sub('[%s]' % re.escape(string.punctuation), '', str(text).lower())\n",
    "    tokens = re.sub(r'\\d+', '', text).split()\n",
    "    text = ' '.join([wnl.lemmatize(str(word)) for word in tokens if word not in stopwords and len(word) > 2])\n",
    "    return text"
   ]
  },
  {
   "cell_type": "code",
   "execution_count": 448,
   "metadata": {},
   "outputs": [],
   "source": [
    "# Review title is positive only if if the polarity of the title is non-negative\n",
    "def get_title_sentiment(title):\n",
    "    analysis = TextBlob(title).sentiment.polarity\n",
    "    return 1 if analysis >= 0 else 0\n",
    "\n",
    "def get_text_polarity(text):    \n",
    "    return TextBlob(text).sentiment.polarity\n",
    "\n",
    "# Review text is positive only if the polarity of the text is 0.3 or above in the positive scale\n",
    "def get_text_sentiment(text):\n",
    "    analysis = get_text_polarity(text)\n",
    "    return 1 if analysis > 0.3 else 0"
   ]
  },
  {
   "cell_type": "markdown",
   "metadata": {},
   "source": [
    "### Glassdoor"
   ]
  },
  {
   "cell_type": "code",
   "execution_count": 449,
   "metadata": {},
   "outputs": [],
   "source": [
    "data_glassdoor['cleaned_title'] = data_glassdoor.title.apply(preprocess)\n",
    "# data_glassdoor['cleaned_pros'] = data_glassdoor.pros.apply(preprocess)\n",
    "# data_glassdoor['cleaned_cons'] = data_glassdoor.cons.apply(preprocess)\n",
    "data_glassdoor['cleaned_text'] = data_glassdoor.text.apply(preprocess)"
   ]
  },
  {
   "cell_type": "markdown",
   "metadata": {},
   "source": [
    "### Indeed"
   ]
  },
  {
   "cell_type": "code",
   "execution_count": 450,
   "metadata": {},
   "outputs": [],
   "source": [
    "data_indeed['cleaned_title'] = data_indeed.title.apply(preprocess)\n",
    "data_indeed['cleaned_text'] = data_indeed.text.apply(preprocess)"
   ]
  },
  {
   "cell_type": "markdown",
   "metadata": {},
   "source": [
    "## III. Calculating the sentiment value for independent text columns"
   ]
  },
  {
   "cell_type": "markdown",
   "metadata": {},
   "source": [
    "### Glassdoor"
   ]
  },
  {
   "cell_type": "code",
   "execution_count": 451,
   "metadata": {},
   "outputs": [],
   "source": [
    "data_glassdoor['title_sentiment'] = data_glassdoor.cleaned_title.apply(get_title_sentiment)\n",
    "data_glassdoor['text_sentiment'] = data_glassdoor.cleaned_text.apply(get_text_sentiment)"
   ]
  },
  {
   "cell_type": "code",
   "execution_count": 452,
   "metadata": {},
   "outputs": [],
   "source": [
    "result_glassdoor = data_glassdoor[['id', 'title', 'text', 'title_sentiment', 'text_sentiment']]"
   ]
  },
  {
   "cell_type": "code",
   "execution_count": 453,
   "metadata": {},
   "outputs": [
    {
     "data": {
      "text/plain": [
       "title_sentiment\n",
       "1    189\n",
       "0     11\n",
       "Name: count, dtype: int64"
      ]
     },
     "execution_count": 453,
     "metadata": {},
     "output_type": "execute_result"
    }
   ],
   "source": [
    "result_glassdoor['title_sentiment'].value_counts()"
   ]
  },
  {
   "cell_type": "code",
   "execution_count": 454,
   "metadata": {},
   "outputs": [
    {
     "data": {
      "text/plain": [
       "text_sentiment\n",
       "1    115\n",
       "0     85\n",
       "Name: count, dtype: int64"
      ]
     },
     "execution_count": 454,
     "metadata": {},
     "output_type": "execute_result"
    }
   ],
   "source": [
    "result_glassdoor['text_sentiment'].value_counts()"
   ]
  },
  {
   "cell_type": "markdown",
   "metadata": {},
   "source": [
    "### Indeed"
   ]
  },
  {
   "cell_type": "code",
   "execution_count": 455,
   "metadata": {},
   "outputs": [],
   "source": [
    "data_indeed['title_sentiment'] = data_indeed.cleaned_title.apply(get_title_sentiment)\n",
    "data_indeed['text_sentiment'] = data_indeed.cleaned_text.apply(get_text_sentiment)"
   ]
  },
  {
   "cell_type": "code",
   "execution_count": 456,
   "metadata": {},
   "outputs": [],
   "source": [
    "result_indeed = data_indeed[['id', 'title', 'text', 'title_sentiment', 'text_sentiment']]"
   ]
  },
  {
   "cell_type": "code",
   "execution_count": 457,
   "metadata": {},
   "outputs": [
    {
     "data": {
      "text/plain": [
       "title_sentiment\n",
       "1    118\n",
       "0      6\n",
       "Name: count, dtype: int64"
      ]
     },
     "execution_count": 457,
     "metadata": {},
     "output_type": "execute_result"
    }
   ],
   "source": [
    "result_indeed['title_sentiment'].value_counts()"
   ]
  },
  {
   "cell_type": "code",
   "execution_count": 458,
   "metadata": {},
   "outputs": [
    {
     "data": {
      "text/plain": [
       "text_sentiment\n",
       "0    64\n",
       "1    60\n",
       "Name: count, dtype: int64"
      ]
     },
     "execution_count": 458,
     "metadata": {},
     "output_type": "execute_result"
    }
   ],
   "source": [
    "result_indeed['text_sentiment'].value_counts()"
   ]
  },
  {
   "cell_type": "markdown",
   "metadata": {},
   "source": [
    "## IV. Combining the individual sentiment scores to create a 'Blend' score"
   ]
  },
  {
   "cell_type": "markdown",
   "metadata": {},
   "source": [
    "### Glassdoor"
   ]
  },
  {
   "cell_type": "code",
   "execution_count": 459,
   "metadata": {},
   "outputs": [],
   "source": [
    "result_glassdoor['final_sentiment'] = result_glassdoor.apply(lambda row: 'pos' if (row.title_sentiment * row.text_sentiment) == 1 else 'neg', axis=1)"
   ]
  },
  {
   "cell_type": "code",
   "execution_count": 460,
   "metadata": {},
   "outputs": [
    {
     "data": {
      "text/html": [
       "<div>\n",
       "<style scoped>\n",
       "    .dataframe tbody tr th:only-of-type {\n",
       "        vertical-align: middle;\n",
       "    }\n",
       "\n",
       "    .dataframe tbody tr th {\n",
       "        vertical-align: top;\n",
       "    }\n",
       "\n",
       "    .dataframe thead th {\n",
       "        text-align: right;\n",
       "    }\n",
       "</style>\n",
       "<table border=\"1\" class=\"dataframe\">\n",
       "  <thead>\n",
       "    <tr style=\"text-align: right;\">\n",
       "      <th></th>\n",
       "      <th>id</th>\n",
       "      <th>title</th>\n",
       "      <th>text</th>\n",
       "      <th>title_sentiment</th>\n",
       "      <th>text_sentiment</th>\n",
       "      <th>final_sentiment</th>\n",
       "    </tr>\n",
       "  </thead>\n",
       "  <tbody>\n",
       "    <tr>\n",
       "      <th>136</th>\n",
       "      <td>78047076</td>\n",
       "      <td>Hard worker</td>\n",
       "      <td>To help people out okNothing at all its good</td>\n",
       "      <td>0</td>\n",
       "      <td>1</td>\n",
       "      <td>neg</td>\n",
       "    </tr>\n",
       "    <tr>\n",
       "      <th>146</th>\n",
       "      <td>77506134</td>\n",
       "      <td>Average</td>\n",
       "      <td>Health and dental free coverageMicro managemen...</td>\n",
       "      <td>0</td>\n",
       "      <td>1</td>\n",
       "      <td>neg</td>\n",
       "    </tr>\n",
       "    <tr>\n",
       "      <th>188</th>\n",
       "      <td>73712656</td>\n",
       "      <td>Mean girls club</td>\n",
       "      <td>Great benefits! Awesome people that love’s adv...</td>\n",
       "      <td>0</td>\n",
       "      <td>1</td>\n",
       "      <td>neg</td>\n",
       "    </tr>\n",
       "  </tbody>\n",
       "</table>\n",
       "</div>"
      ],
      "text/plain": [
       "           id            title  \\\n",
       "136  78047076      Hard worker   \n",
       "146  77506134          Average   \n",
       "188  73712656  Mean girls club   \n",
       "\n",
       "                                                  text  title_sentiment  \\\n",
       "136       To help people out okNothing at all its good                0   \n",
       "146  Health and dental free coverageMicro managemen...                0   \n",
       "188  Great benefits! Awesome people that love’s adv...                0   \n",
       "\n",
       "     text_sentiment final_sentiment  \n",
       "136               1             neg  \n",
       "146               1             neg  \n",
       "188               1             neg  "
      ]
     },
     "execution_count": 460,
     "metadata": {},
     "output_type": "execute_result"
    }
   ],
   "source": [
    "result_glassdoor[(result_glassdoor.title_sentiment==0) & (result_glassdoor.text_sentiment==1)]"
   ]
  },
  {
   "cell_type": "markdown",
   "metadata": {},
   "source": [
    "### Indeed"
   ]
  },
  {
   "cell_type": "code",
   "execution_count": 461,
   "metadata": {},
   "outputs": [],
   "source": [
    "result_indeed['final_sentiment'] = result_indeed.apply(lambda row: 'pos' if (row.title_sentiment * row.text_sentiment) == 1 else 'neg', axis=1)"
   ]
  },
  {
   "cell_type": "code",
   "execution_count": 462,
   "metadata": {},
   "outputs": [
    {
     "data": {
      "text/html": [
       "<div>\n",
       "<style scoped>\n",
       "    .dataframe tbody tr th:only-of-type {\n",
       "        vertical-align: middle;\n",
       "    }\n",
       "\n",
       "    .dataframe tbody tr th {\n",
       "        vertical-align: top;\n",
       "    }\n",
       "\n",
       "    .dataframe thead th {\n",
       "        text-align: right;\n",
       "    }\n",
       "</style>\n",
       "<table border=\"1\" class=\"dataframe\">\n",
       "  <thead>\n",
       "    <tr style=\"text-align: right;\">\n",
       "      <th></th>\n",
       "      <th>id</th>\n",
       "      <th>title</th>\n",
       "      <th>text</th>\n",
       "      <th>title_sentiment</th>\n",
       "      <th>text_sentiment</th>\n",
       "      <th>final_sentiment</th>\n",
       "    </tr>\n",
       "  </thead>\n",
       "  <tbody>\n",
       "    <tr>\n",
       "      <th>10</th>\n",
       "      <td>1h3tarft9jjhs802</td>\n",
       "      <td>Poor management</td>\n",
       "      <td>They hire managers who haven’t sold and don’t ...</td>\n",
       "      <td>0</td>\n",
       "      <td>1</td>\n",
       "      <td>neg</td>\n",
       "    </tr>\n",
       "    <tr>\n",
       "      <th>47</th>\n",
       "      <td>1deksggsvh3st801</td>\n",
       "      <td>Incompetent management</td>\n",
       "      <td>Manager didn’t have a clue on how to manage pe...</td>\n",
       "      <td>0</td>\n",
       "      <td>1</td>\n",
       "      <td>neg</td>\n",
       "    </tr>\n",
       "  </tbody>\n",
       "</table>\n",
       "</div>"
      ],
      "text/plain": [
       "                  id                   title  \\\n",
       "10  1h3tarft9jjhs802         Poor management   \n",
       "47  1deksggsvh3st801  Incompetent management   \n",
       "\n",
       "                                                 text  title_sentiment  \\\n",
       "10  They hire managers who haven’t sold and don’t ...                0   \n",
       "47  Manager didn’t have a clue on how to manage pe...                0   \n",
       "\n",
       "    text_sentiment final_sentiment  \n",
       "10               1             neg  \n",
       "47               1             neg  "
      ]
     },
     "execution_count": 462,
     "metadata": {},
     "output_type": "execute_result"
    }
   ],
   "source": [
    "result_indeed[(result_indeed.title_sentiment==0) & (result_indeed.text_sentiment==1)]"
   ]
  },
  {
   "cell_type": "markdown",
   "metadata": {},
   "source": [
    "## V. Aggregating the sentiment scores from all data sources"
   ]
  },
  {
   "cell_type": "code",
   "execution_count": 463,
   "metadata": {},
   "outputs": [
    {
     "data": {
      "text/plain": [
       "(200, 4)"
      ]
     },
     "execution_count": 463,
     "metadata": {},
     "output_type": "execute_result"
    }
   ],
   "source": [
    "result_glassdoor = result_glassdoor[['id', 'title', 'text', 'final_sentiment']]\n",
    "result_glassdoor.shape"
   ]
  },
  {
   "cell_type": "code",
   "execution_count": 464,
   "metadata": {},
   "outputs": [
    {
     "data": {
      "text/plain": [
       "(124, 4)"
      ]
     },
     "execution_count": 464,
     "metadata": {},
     "output_type": "execute_result"
    }
   ],
   "source": [
    "result_indeed = result_indeed[['id', 'title', 'text', 'final_sentiment']]\n",
    "result_indeed.shape"
   ]
  },
  {
   "cell_type": "code",
   "execution_count": 465,
   "metadata": {},
   "outputs": [
    {
     "data": {
      "text/plain": [
       "(324, 4)"
      ]
     },
     "execution_count": 465,
     "metadata": {},
     "output_type": "execute_result"
    }
   ],
   "source": [
    "company_sentiment = pd.concat([result_glassdoor,result_indeed],ignore_index=True)\n",
    "company_sentiment.shape"
   ]
  },
  {
   "cell_type": "markdown",
   "metadata": {},
   "source": [
    "## VI. Exporting the aggregated data"
   ]
  },
  {
   "cell_type": "code",
   "execution_count": 466,
   "metadata": {},
   "outputs": [],
   "source": [
    "company_sentiment.to_csv(f'data/aggregated/aggregated_sentiment_{company}.csv')"
   ]
  },
  {
   "cell_type": "code",
   "execution_count": null,
   "metadata": {},
   "outputs": [],
   "source": []
  }
 ],
 "metadata": {
  "kernelspec": {
   "display_name": "Python 3",
   "language": "python",
   "name": "python3"
  },
  "language_info": {
   "codemirror_mode": {
    "name": "ipython",
    "version": 3
   },
   "file_extension": ".py",
   "mimetype": "text/x-python",
   "name": "python",
   "nbconvert_exporter": "python",
   "pygments_lexer": "ipython3",
   "version": "3.9.6"
  }
 },
 "nbformat": 4,
 "nbformat_minor": 2
}
