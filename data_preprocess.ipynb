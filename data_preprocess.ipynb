{
 "cells": [
  {
   "cell_type": "code",
   "execution_count": 163,
   "metadata": {},
   "outputs": [],
   "source": [
    "import pandas as pd\n",
    "import json\n",
    "import os\n",
    "import warnings\n",
    "warnings.filterwarnings('ignore')\n"
   ]
  },
  {
   "cell_type": "code",
   "execution_count": 170,
   "metadata": {},
   "outputs": [],
   "source": [
    "# Initializing global variables\n",
    "SOURCES = ['glassdoor', 'indeed']\n",
    "COMPANIES = ['airbnb', 'booking', 'tripadvisor']\n",
    "SOURCE_N_FILES = {'glassdoor':20, 'indeed':10}"
   ]
  },
  {
   "cell_type": "markdown",
   "metadata": {},
   "source": [
    "## Aggregating all JSON files to CSV files for each company from every source"
   ]
  },
  {
   "cell_type": "code",
   "execution_count": 171,
   "metadata": {},
   "outputs": [],
   "source": [
    "def json_to_csv(source, company, n_files):\n",
    "    path_prefix = f'data/{source}/{company}/{source}_{company}'\n",
    "    for i in range(n_files):\n",
    "        json_path = f'{path_prefix}_{i}.json'\n",
    "        with open(json_path, 'r') as file:\n",
    "            data = json.load(file)\n",
    "        data = pd.DataFrame(data['reviews'])\n",
    "        if not os.path.exists(f'{path_prefix}.csv'):\n",
    "            data.to_csv(f'{path_prefix}.csv', mode='w', header=True, index=False)\n",
    "            print(f'{path_prefix}.csv - Created Successfully!')\n",
    "        else: \n",
    "            data.to_csv(f'{path_prefix}.csv', mode='a', header=False, index=False)"
   ]
  },
  {
   "cell_type": "code",
   "execution_count": 172,
   "metadata": {},
   "outputs": [
    {
     "name": "stdout",
     "output_type": "stream",
     "text": [
      "data/glassdoor/airbnb/glassdoor_airbnb.csv - Created Successfully!\n",
      "data/glassdoor/booking/glassdoor_booking.csv - Created Successfully!\n",
      "data/glassdoor/tripadvisor/glassdoor_tripadvisor.csv - Created Successfully!\n"
     ]
    }
   ],
   "source": [
    "# Create Glassdoor data\n",
    "for company in COMPANIES: \n",
    "    json_to_csv('glassdoor', company, SOURCE_N_FILES['glassdoor'])"
   ]
  },
  {
   "cell_type": "code",
   "execution_count": 173,
   "metadata": {},
   "outputs": [
    {
     "name": "stdout",
     "output_type": "stream",
     "text": [
      "data/indeed/airbnb/indeed_airbnb.csv - Created Successfully!\n",
      "data/indeed/booking/indeed_booking.csv - Created Successfully!\n",
      "data/indeed/tripadvisor/indeed_tripadvisor.csv - Created Successfully!\n"
     ]
    }
   ],
   "source": [
    "# Create Indeed data\n",
    "for company in COMPANIES: \n",
    "    json_to_csv('indeed', company, SOURCE_N_FILES['indeed'])"
   ]
  },
  {
   "cell_type": "markdown",
   "metadata": {},
   "source": [
    "## Calculating averages of categorical themes from employee ratings"
   ]
  },
  {
   "cell_type": "code",
   "execution_count": 174,
   "metadata": {},
   "outputs": [],
   "source": [
    "def calculate_averages(source, company, columns):\n",
    "    path = f'data/{source}/{company}/{source}_{company}.csv'\n",
    "    reviews = pd.read_csv(path)\n",
    "    means = reviews[columns].mean().round(2)\n",
    "    means = pd.concat([pd.Series([source,company], index=['source','company']), means])\n",
    "    return means"
   ]
  },
  {
   "cell_type": "markdown",
   "metadata": {},
   "source": [
    "### Glassdoor reviews"
   ]
  },
  {
   "cell_type": "code",
   "execution_count": 175,
   "metadata": {},
   "outputs": [],
   "source": [
    "glassdoor_category_columns = [\n",
    "        'culture_and_values_rating', 'diversity_and_inclusion_rating', \n",
    "        'work_life_balance_rating', 'senior_management_rating', \n",
    "        'compensation_and_benefits_rating', 'career_opportunities_rating'\n",
    "        ]\n",
    "glassdoor_averages = pd.DataFrame(columns = ['source', 'company']+glassdoor_category_columns)\n",
    "for company in COMPANIES: \n",
    "    means = calculate_averages('glassdoor', company, glassdoor_category_columns)\n",
    "    glassdoor_averages = pd.concat([glassdoor_averages, pd.DataFrame([means])], ignore_index=True)"
   ]
  },
  {
   "cell_type": "code",
   "execution_count": 176,
   "metadata": {},
   "outputs": [
    {
     "data": {
      "text/html": [
       "<div>\n",
       "<style scoped>\n",
       "    .dataframe tbody tr th:only-of-type {\n",
       "        vertical-align: middle;\n",
       "    }\n",
       "\n",
       "    .dataframe tbody tr th {\n",
       "        vertical-align: top;\n",
       "    }\n",
       "\n",
       "    .dataframe thead th {\n",
       "        text-align: right;\n",
       "    }\n",
       "</style>\n",
       "<table border=\"1\" class=\"dataframe\">\n",
       "  <thead>\n",
       "    <tr style=\"text-align: right;\">\n",
       "      <th></th>\n",
       "      <th>source</th>\n",
       "      <th>company</th>\n",
       "      <th>culture_and_values_rating</th>\n",
       "      <th>diversity_and_inclusion_rating</th>\n",
       "      <th>work_life_balance_rating</th>\n",
       "      <th>senior_management_rating</th>\n",
       "      <th>compensation_and_benefits_rating</th>\n",
       "      <th>career_opportunities_rating</th>\n",
       "    </tr>\n",
       "  </thead>\n",
       "  <tbody>\n",
       "    <tr>\n",
       "      <th>0</th>\n",
       "      <td>glassdoor</td>\n",
       "      <td>airbnb</td>\n",
       "      <td>3.09</td>\n",
       "      <td>3.12</td>\n",
       "      <td>2.91</td>\n",
       "      <td>2.64</td>\n",
       "      <td>3.08</td>\n",
       "      <td>2.71</td>\n",
       "    </tr>\n",
       "    <tr>\n",
       "      <th>1</th>\n",
       "      <td>glassdoor</td>\n",
       "      <td>booking</td>\n",
       "      <td>3.05</td>\n",
       "      <td>3.20</td>\n",
       "      <td>2.92</td>\n",
       "      <td>2.64</td>\n",
       "      <td>2.90</td>\n",
       "      <td>2.59</td>\n",
       "    </tr>\n",
       "    <tr>\n",
       "      <th>2</th>\n",
       "      <td>glassdoor</td>\n",
       "      <td>tripadvisor</td>\n",
       "      <td>2.88</td>\n",
       "      <td>3.00</td>\n",
       "      <td>2.88</td>\n",
       "      <td>2.37</td>\n",
       "      <td>2.93</td>\n",
       "      <td>2.48</td>\n",
       "    </tr>\n",
       "  </tbody>\n",
       "</table>\n",
       "</div>"
      ],
      "text/plain": [
       "      source      company  culture_and_values_rating  \\\n",
       "0  glassdoor       airbnb                       3.09   \n",
       "1  glassdoor      booking                       3.05   \n",
       "2  glassdoor  tripadvisor                       2.88   \n",
       "\n",
       "   diversity_and_inclusion_rating  work_life_balance_rating  \\\n",
       "0                            3.12                      2.91   \n",
       "1                            3.20                      2.92   \n",
       "2                            3.00                      2.88   \n",
       "\n",
       "   senior_management_rating  compensation_and_benefits_rating  \\\n",
       "0                      2.64                              3.08   \n",
       "1                      2.64                              2.90   \n",
       "2                      2.37                              2.93   \n",
       "\n",
       "   career_opportunities_rating  \n",
       "0                         2.71  \n",
       "1                         2.59  \n",
       "2                         2.48  "
      ]
     },
     "execution_count": 176,
     "metadata": {},
     "output_type": "execute_result"
    }
   ],
   "source": [
    "glassdoor_averages.to_csv(f'data/glassdoor/glassdoor_averages.csv')\n",
    "glassdoor_averages"
   ]
  },
  {
   "cell_type": "markdown",
   "metadata": {},
   "source": [
    "### Indeed reviews"
   ]
  },
  {
   "cell_type": "code",
   "execution_count": 177,
   "metadata": {},
   "outputs": [],
   "source": [
    "indeed_category_columns = [\n",
    "    'job_work_and_life_balance_rating', 'compensation_and_benefits_rating', \n",
    "    'job_security_and_advancement_rating', 'management_rating', 'job_culture_rating'\n",
    "]\n",
    "indeed_averages = pd.DataFrame(columns = ['source', 'company']+indeed_category_columns)\n",
    "for company in COMPANIES: \n",
    "    means = calculate_averages('indeed', company, indeed_category_columns)\n",
    "    indeed_averages = pd.concat([indeed_averages, pd.DataFrame([means])], ignore_index=True)"
   ]
  },
  {
   "cell_type": "code",
   "execution_count": 178,
   "metadata": {},
   "outputs": [
    {
     "data": {
      "text/html": [
       "<div>\n",
       "<style scoped>\n",
       "    .dataframe tbody tr th:only-of-type {\n",
       "        vertical-align: middle;\n",
       "    }\n",
       "\n",
       "    .dataframe tbody tr th {\n",
       "        vertical-align: top;\n",
       "    }\n",
       "\n",
       "    .dataframe thead th {\n",
       "        text-align: right;\n",
       "    }\n",
       "</style>\n",
       "<table border=\"1\" class=\"dataframe\">\n",
       "  <thead>\n",
       "    <tr style=\"text-align: right;\">\n",
       "      <th></th>\n",
       "      <th>source</th>\n",
       "      <th>company</th>\n",
       "      <th>job_work_and_life_balance_rating</th>\n",
       "      <th>compensation_and_benefits_rating</th>\n",
       "      <th>job_security_and_advancement_rating</th>\n",
       "      <th>management_rating</th>\n",
       "      <th>job_culture_rating</th>\n",
       "    </tr>\n",
       "  </thead>\n",
       "  <tbody>\n",
       "    <tr>\n",
       "      <th>0</th>\n",
       "      <td>indeed</td>\n",
       "      <td>airbnb</td>\n",
       "      <td>1.85</td>\n",
       "      <td>1.78</td>\n",
       "      <td>1.71</td>\n",
       "      <td>1.72</td>\n",
       "      <td>1.89</td>\n",
       "    </tr>\n",
       "    <tr>\n",
       "      <th>1</th>\n",
       "      <td>indeed</td>\n",
       "      <td>booking</td>\n",
       "      <td>1.83</td>\n",
       "      <td>1.73</td>\n",
       "      <td>1.60</td>\n",
       "      <td>1.64</td>\n",
       "      <td>1.80</td>\n",
       "    </tr>\n",
       "    <tr>\n",
       "      <th>2</th>\n",
       "      <td>indeed</td>\n",
       "      <td>tripadvisor</td>\n",
       "      <td>3.37</td>\n",
       "      <td>3.35</td>\n",
       "      <td>2.75</td>\n",
       "      <td>2.88</td>\n",
       "      <td>3.33</td>\n",
       "    </tr>\n",
       "  </tbody>\n",
       "</table>\n",
       "</div>"
      ],
      "text/plain": [
       "   source      company  job_work_and_life_balance_rating  \\\n",
       "0  indeed       airbnb                              1.85   \n",
       "1  indeed      booking                              1.83   \n",
       "2  indeed  tripadvisor                              3.37   \n",
       "\n",
       "   compensation_and_benefits_rating  job_security_and_advancement_rating  \\\n",
       "0                              1.78                                 1.71   \n",
       "1                              1.73                                 1.60   \n",
       "2                              3.35                                 2.75   \n",
       "\n",
       "   management_rating  job_culture_rating  \n",
       "0               1.72                1.89  \n",
       "1               1.64                1.80  \n",
       "2               2.88                3.33  "
      ]
     },
     "execution_count": 178,
     "metadata": {},
     "output_type": "execute_result"
    }
   ],
   "source": [
    "indeed_averages.to_csv(f'data/indeed/indeed_averages.csv')\n",
    "indeed_averages"
   ]
  },
  {
   "cell_type": "markdown",
   "metadata": {},
   "source": [
    "### Combined Averages - Source wise"
   ]
  },
  {
   "cell_type": "code",
   "execution_count": 179,
   "metadata": {},
   "outputs": [],
   "source": [
    "indeed_averages = indeed_averages.rename(columns={\n",
    "    'job_work_and_life_balance_rating': 'work_life_balance_rating',\n",
    "    'compensation_and_benefits_rating': 'compensation_and_benefits_rating',\n",
    "    'job_security_and_advancement_rating': 'career_opportunities_rating',\n",
    "    'management_rating': 'senior_management_rating',\n",
    "    'job_culture_rating': 'culture_and_values_rating'\n",
    "})\n",
    "\n",
    "missing_columns = set(glassdoor_averages.columns) - set(indeed_averages.columns)\n",
    "for col in missing_columns:\n",
    "    indeed_averages[col] = 0\n",
    "indeed_averages = indeed_averages[glassdoor_averages.columns]\n",
    "\n",
    "combined_averages = pd.concat([glassdoor_averages, indeed_averages], ignore_index=True)"
   ]
  },
  {
   "cell_type": "code",
   "execution_count": 180,
   "metadata": {},
   "outputs": [
    {
     "data": {
      "text/html": [
       "<div>\n",
       "<style scoped>\n",
       "    .dataframe tbody tr th:only-of-type {\n",
       "        vertical-align: middle;\n",
       "    }\n",
       "\n",
       "    .dataframe tbody tr th {\n",
       "        vertical-align: top;\n",
       "    }\n",
       "\n",
       "    .dataframe thead th {\n",
       "        text-align: right;\n",
       "    }\n",
       "</style>\n",
       "<table border=\"1\" class=\"dataframe\">\n",
       "  <thead>\n",
       "    <tr style=\"text-align: right;\">\n",
       "      <th></th>\n",
       "      <th>source</th>\n",
       "      <th>company</th>\n",
       "      <th>culture_and_values_rating</th>\n",
       "      <th>diversity_and_inclusion_rating</th>\n",
       "      <th>work_life_balance_rating</th>\n",
       "      <th>senior_management_rating</th>\n",
       "      <th>compensation_and_benefits_rating</th>\n",
       "      <th>career_opportunities_rating</th>\n",
       "    </tr>\n",
       "  </thead>\n",
       "  <tbody>\n",
       "    <tr>\n",
       "      <th>0</th>\n",
       "      <td>glassdoor</td>\n",
       "      <td>airbnb</td>\n",
       "      <td>3.09</td>\n",
       "      <td>3.12</td>\n",
       "      <td>2.91</td>\n",
       "      <td>2.64</td>\n",
       "      <td>3.08</td>\n",
       "      <td>2.71</td>\n",
       "    </tr>\n",
       "    <tr>\n",
       "      <th>1</th>\n",
       "      <td>glassdoor</td>\n",
       "      <td>booking</td>\n",
       "      <td>3.05</td>\n",
       "      <td>3.20</td>\n",
       "      <td>2.92</td>\n",
       "      <td>2.64</td>\n",
       "      <td>2.90</td>\n",
       "      <td>2.59</td>\n",
       "    </tr>\n",
       "    <tr>\n",
       "      <th>2</th>\n",
       "      <td>glassdoor</td>\n",
       "      <td>tripadvisor</td>\n",
       "      <td>2.88</td>\n",
       "      <td>3.00</td>\n",
       "      <td>2.88</td>\n",
       "      <td>2.37</td>\n",
       "      <td>2.93</td>\n",
       "      <td>2.48</td>\n",
       "    </tr>\n",
       "    <tr>\n",
       "      <th>3</th>\n",
       "      <td>indeed</td>\n",
       "      <td>airbnb</td>\n",
       "      <td>1.89</td>\n",
       "      <td>0.00</td>\n",
       "      <td>1.85</td>\n",
       "      <td>1.72</td>\n",
       "      <td>1.78</td>\n",
       "      <td>1.71</td>\n",
       "    </tr>\n",
       "    <tr>\n",
       "      <th>4</th>\n",
       "      <td>indeed</td>\n",
       "      <td>booking</td>\n",
       "      <td>1.80</td>\n",
       "      <td>0.00</td>\n",
       "      <td>1.83</td>\n",
       "      <td>1.64</td>\n",
       "      <td>1.73</td>\n",
       "      <td>1.60</td>\n",
       "    </tr>\n",
       "    <tr>\n",
       "      <th>5</th>\n",
       "      <td>indeed</td>\n",
       "      <td>tripadvisor</td>\n",
       "      <td>3.33</td>\n",
       "      <td>0.00</td>\n",
       "      <td>3.37</td>\n",
       "      <td>2.88</td>\n",
       "      <td>3.35</td>\n",
       "      <td>2.75</td>\n",
       "    </tr>\n",
       "  </tbody>\n",
       "</table>\n",
       "</div>"
      ],
      "text/plain": [
       "      source      company  culture_and_values_rating  \\\n",
       "0  glassdoor       airbnb                       3.09   \n",
       "1  glassdoor      booking                       3.05   \n",
       "2  glassdoor  tripadvisor                       2.88   \n",
       "3     indeed       airbnb                       1.89   \n",
       "4     indeed      booking                       1.80   \n",
       "5     indeed  tripadvisor                       3.33   \n",
       "\n",
       "   diversity_and_inclusion_rating  work_life_balance_rating  \\\n",
       "0                            3.12                      2.91   \n",
       "1                            3.20                      2.92   \n",
       "2                            3.00                      2.88   \n",
       "3                            0.00                      1.85   \n",
       "4                            0.00                      1.83   \n",
       "5                            0.00                      3.37   \n",
       "\n",
       "   senior_management_rating  compensation_and_benefits_rating  \\\n",
       "0                      2.64                              3.08   \n",
       "1                      2.64                              2.90   \n",
       "2                      2.37                              2.93   \n",
       "3                      1.72                              1.78   \n",
       "4                      1.64                              1.73   \n",
       "5                      2.88                              3.35   \n",
       "\n",
       "   career_opportunities_rating  \n",
       "0                         2.71  \n",
       "1                         2.59  \n",
       "2                         2.48  \n",
       "3                         1.71  \n",
       "4                         1.60  \n",
       "5                         2.75  "
      ]
     },
     "execution_count": 180,
     "metadata": {},
     "output_type": "execute_result"
    }
   ],
   "source": [
    "combined_averages.to_csv(f'data/aggregated/sourcewise_averages.csv')\n",
    "combined_averages"
   ]
  },
  {
   "cell_type": "markdown",
   "metadata": {},
   "source": [
    "### Combined averages - Overall"
   ]
  },
  {
   "cell_type": "code",
   "execution_count": 181,
   "metadata": {},
   "outputs": [],
   "source": [
    "def aggregate_ratings(company):\n",
    "    glassdoor_path = f'data/glassdoor/{company}/glassdoor_{company}.csv'\n",
    "    glassdoor_columns = [\n",
    "        'id', 'rating', 'culture_and_values_rating', 'work_life_balance_rating', \n",
    "        'senior_management_rating', 'compensation_and_benefits_rating', 'career_opportunities_rating'\n",
    "        ]\n",
    "    glassdoor_categorical_ratings = pd.read_csv(glassdoor_path)[glassdoor_columns]\n",
    "    glassdoor_categorical_ratings.insert(0, 'source', 'glassdoor')\n",
    "\n",
    "    indeed_path = f'data/indeed/{company}/indeed_{company}.csv'\n",
    "    indeed_columns = [\n",
    "        'id', 'rating', 'job_culture_rating', 'job_work_and_life_balance_rating', \n",
    "        'management_rating', 'compensation_and_benefits_rating', 'job_security_and_advancement_rating'\n",
    "        ]\n",
    "    indeed_categorical_ratings = pd.read_csv(indeed_path)[indeed_columns]\n",
    "    indeed_categorical_ratings.insert(0, 'source', 'indeed')\n",
    "\n",
    "    indeed_categorical_ratings = indeed_categorical_ratings.rename(columns={\n",
    "        'job_work_and_life_balance_rating': 'work_life_balance_rating',\n",
    "        'compensation_and_benefits_rating': 'compensation_and_benefits_rating',\n",
    "        'job_security_and_advancement_rating': 'career_opportunities_rating',\n",
    "        'management_rating': 'senior_management_rating',\n",
    "        'job_culture_rating': 'culture_and_values_rating'\n",
    "    })\n",
    "    indeed_categorical_ratings = indeed_categorical_ratings[glassdoor_categorical_ratings.columns]\n",
    "\n",
    "    aggregated_categorical_ratings = pd.concat([glassdoor_categorical_ratings, indeed_categorical_ratings]).reset_index(drop=True)\n",
    "    return aggregated_categorical_ratings"
   ]
  },
  {
   "cell_type": "code",
   "execution_count": 182,
   "metadata": {},
   "outputs": [],
   "source": [
    "for company in COMPANIES: \n",
    "    aggregated_company_ratings = aggregate_ratings(company)\n",
    "    aggregated_company_ratings.to_csv(f'data/aggregated/aggregated_{company}_ratings.csv')"
   ]
  },
  {
   "cell_type": "code",
   "execution_count": 186,
   "metadata": {},
   "outputs": [],
   "source": [
    "aggregated_means = []\n",
    "for company in COMPANIES:\n",
    "    path = f'data/aggregated/aggregated_{company}_ratings.csv'\n",
    "    ratings = pd.read_csv(path)\n",
    "    company_means = ratings[ratings.columns[3:]].mean().round(2)\n",
    "    company_means = pd.concat([pd.Series([company,len(ratings)], index=['company','n_ratings']), company_means])\n",
    "    aggregated_means.append(company_means)\n"
   ]
  },
  {
   "cell_type": "markdown",
   "metadata": {},
   "source": [
    "## Exporting the aggregated data set"
   ]
  },
  {
   "cell_type": "code",
   "execution_count": 187,
   "metadata": {},
   "outputs": [
    {
     "data": {
      "text/html": [
       "<div>\n",
       "<style scoped>\n",
       "    .dataframe tbody tr th:only-of-type {\n",
       "        vertical-align: middle;\n",
       "    }\n",
       "\n",
       "    .dataframe tbody tr th {\n",
       "        vertical-align: top;\n",
       "    }\n",
       "\n",
       "    .dataframe thead th {\n",
       "        text-align: right;\n",
       "    }\n",
       "</style>\n",
       "<table border=\"1\" class=\"dataframe\">\n",
       "  <thead>\n",
       "    <tr style=\"text-align: right;\">\n",
       "      <th></th>\n",
       "      <th>company</th>\n",
       "      <th>n_ratings</th>\n",
       "      <th>rating</th>\n",
       "      <th>culture_and_values_rating</th>\n",
       "      <th>work_life_balance_rating</th>\n",
       "      <th>senior_management_rating</th>\n",
       "      <th>compensation_and_benefits_rating</th>\n",
       "      <th>career_opportunities_rating</th>\n",
       "    </tr>\n",
       "  </thead>\n",
       "  <tbody>\n",
       "    <tr>\n",
       "      <th>0</th>\n",
       "      <td>airbnb</td>\n",
       "      <td>401</td>\n",
       "      <td>4.19</td>\n",
       "      <td>2.49</td>\n",
       "      <td>2.38</td>\n",
       "      <td>2.18</td>\n",
       "      <td>2.43</td>\n",
       "      <td>2.21</td>\n",
       "    </tr>\n",
       "    <tr>\n",
       "      <th>1</th>\n",
       "      <td>booking</td>\n",
       "      <td>401</td>\n",
       "      <td>3.78</td>\n",
       "      <td>2.42</td>\n",
       "      <td>2.37</td>\n",
       "      <td>2.14</td>\n",
       "      <td>2.32</td>\n",
       "      <td>2.09</td>\n",
       "    </tr>\n",
       "    <tr>\n",
       "      <th>2</th>\n",
       "      <td>tripadvisor</td>\n",
       "      <td>332</td>\n",
       "      <td>3.85</td>\n",
       "      <td>3.06</td>\n",
       "      <td>3.07</td>\n",
       "      <td>2.57</td>\n",
       "      <td>3.10</td>\n",
       "      <td>2.58</td>\n",
       "    </tr>\n",
       "  </tbody>\n",
       "</table>\n",
       "</div>"
      ],
      "text/plain": [
       "       company  n_ratings  rating  culture_and_values_rating  \\\n",
       "0       airbnb        401    4.19                       2.49   \n",
       "1      booking        401    3.78                       2.42   \n",
       "2  tripadvisor        332    3.85                       3.06   \n",
       "\n",
       "   work_life_balance_rating  senior_management_rating  \\\n",
       "0                      2.38                      2.18   \n",
       "1                      2.37                      2.14   \n",
       "2                      3.07                      2.57   \n",
       "\n",
       "   compensation_and_benefits_rating  career_opportunities_rating  \n",
       "0                              2.43                         2.21  \n",
       "1                              2.32                         2.09  \n",
       "2                              3.10                         2.58  "
      ]
     },
     "execution_count": 187,
     "metadata": {},
     "output_type": "execute_result"
    }
   ],
   "source": [
    "aggregated_means = pd.DataFrame(aggregated_means)\n",
    "aggregated_means.to_csv(f'data/aggregated/aggregated_mean_ratings.csv')\n",
    "aggregated_means.head()"
   ]
  },
  {
   "cell_type": "code",
   "execution_count": null,
   "metadata": {},
   "outputs": [],
   "source": []
  }
 ],
 "metadata": {
  "kernelspec": {
   "display_name": "Python 3",
   "language": "python",
   "name": "python3"
  },
  "language_info": {
   "codemirror_mode": {
    "name": "ipython",
    "version": 3
   },
   "file_extension": ".py",
   "mimetype": "text/x-python",
   "name": "python",
   "nbconvert_exporter": "python",
   "pygments_lexer": "ipython3",
   "version": "3.9.6"
  }
 },
 "nbformat": 4,
 "nbformat_minor": 2
}
